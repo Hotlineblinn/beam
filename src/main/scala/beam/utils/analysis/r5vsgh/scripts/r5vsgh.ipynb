{
 "nbformat": 4,
 "nbformat_minor": 0,
 "metadata": {
  "colab": {
   "name": "r5vsgh.ipynb",
   "provenance": []
  },
  "kernelspec": {
   "name": "python3",
   "language": "python",
   "display_name": "Python 3"
  },
  "pycharm": {
   "stem_cell": {
    "cell_type": "raw",
    "source": [],
    "metadata": {
     "collapsed": false
    }
   }
  }
 },
 "cells": [
  {
   "cell_type": "code",
   "metadata": {
    "id": "LzBIMMoh5d-o",
    "colab_type": "code",
    "pycharm": {
     "is_executing": false
    },
    "colab": {
     "base_uri": "https://localhost:8080/",
     "height": 50
    },
    "outputId": "d17cbb3e-84aa-4a35-b4a5-34c2c05ff44b"
   },
   "source": [
    "from typing import Any, Union\n",
    "from pandas import DataFrame\n",
    "from pandas.io.parsers import TextFileReader\n",
    "%matplotlib inline\n",
    "# Main Python imports and params for Mathplotlib\n",
    "from datetime import datetime, timedelta\n",
    "\n",
    "import os\n",
    "import matplotlib as mpl\n",
    "#if os.environ.get('DISPLAY','') == '':\n",
    "    #print('no display found. Using non-interactive Agg backend')\n",
    "    #mpl.use('Agg')\n",
    "\n",
    "import matplotlib.dates as mdates\n",
    "import matplotlib.pyplot as plt\n",
    "from matplotlib import colors\n",
    "from matplotlib import cm\n",
    "import seaborn as sns\n",
    "\n",
    "\n",
    "import numpy as np \n",
    "from numpy.random import rand\n",
    "\n",
    "import time\n",
    "import traceback\n",
    "import math\n",
    "\n",
    "import pandas as pd\n",
    "import io\n",
    "import requests\n",
    "\n",
    "import re\n",
    "import math"
   ],
   "execution_count": 61,
   "outputs": []
  },
  {
   "cell_type": "code",
   "metadata": {
    "id": "4c3X4mUf5inP",
    "colab_type": "code",
    "pycharm": {
     "is_executing": false
    },
    "colab": {
     "base_uri": "https://localhost:8080/",
     "height": 17
    },
    "outputId": "3471e354-de40-4cb2-8844-8a434c8cab79"
   },
   "source": [
    "# You can reduce this if plots are too big\n",
    "plt.rcParams['figure.figsize'] = [18, 13]\n",
    "\n",
    "from IPython.core.display import display, HTML\n",
    "display(HTML(\"<style>.container { width:100% !important; }</style>\"))\n"
   ],
   "execution_count": 62,
   "outputs": [
    {
     "data": {
      "text/plain": "<IPython.core.display.HTML object>",
      "text/html": "<style>.container { width:100% !important; }</style>"
     },
     "metadata": {},
     "output_type": "display_data"
    }
   ]
  },
  {
   "cell_type": "code",
   "metadata": {
    "id": "myH8lVjz7Rc4",
    "colab_type": "code",
    "colab": {},
    "pycharm": {
     "is_executing": false
    }
   },
   "source": [
    "# rootUrl = \"file://localhost/<path to beam>\"\n",
    "rootUrl = \"https://beam-outputs.s3.us-east-2.amazonaws.com/aaltergot/r5vsgh\"\n",
    "\n",
    "# beamOutput = \"beamville__2020-08-06_13-05-56_dpj\"\n",
    "beamOutput = \"austin-prod-200k-flowCap-0.2-speedScaling-1.1__2020-08-06_14-54-28_mke\"\n",
    "\n",
    "inputUrl = \"{}/{}/R5vsGraphHopper\".format(rootUrl,beamOutput)"
   ],
   "execution_count": 63,
   "outputs": []
  },
  {
   "cell_type": "code",
   "metadata": {
    "id": "qT4QOEY45j6l",
    "colab_type": "code",
    "pycharm": {
     "is_executing": false
    },
    "colab": {
     "base_uri": "https://localhost:8080/",
     "height": 277
    },
    "outputId": "32440667-5c1f-4d43-f926-404b13cf7d7c"
   },
   "source": [
    "r5AllRoutesUrl = \"{}/{}\".format(inputUrl, \"r5_routes.csv.gz\")\n",
    "r5AllRoutes = pd.read_csv(r5AllRoutesUrl, compression='gzip', index_col=False)"
   ],
   "execution_count": 64,
   "outputs": [
    {
     "name": "stdout",
     "text": [
      "https://beam-outputs.s3.us-east-2.amazonaws.com/aaltergot/r5vsgh/austin-prod-200k-flowCap-0.2-speedScaling-1.1__2020-08-06_13-08-05_nti/R5vsGraphHopper/r5_routes.csv.gz\n"
     ],
     "output_type": "stream"
    }
   ]
  },
  {
   "cell_type": "code",
   "execution_count": 65,
   "outputs": [
    {
     "data": {
      "text/plain": "           person_id      origin_x      origin_y  destination_x  \\\ncount   81442.000000  81442.000000  81442.000000   81442.000000   \nmean   108786.103509    -97.750982     30.353337     -97.750982   \nstd     33312.019716      0.101282      0.148660       0.101282   \nmin         0.000000    -98.297790     29.680699     -98.297790   \n25%    106633.000000    -97.801095     30.268178     -97.801095   \n50%    117124.000000    -97.741994     30.349126     -97.741994   \n75%    127355.000000    -97.693899     30.452875     -97.693899   \nmax    137856.000000    -97.299021     30.823856     -97.299021   \n\n       destination_y  number_of_links  distance_in_meters   travel_time  \\\ncount   81442.000000     81442.000000        81442.000000  81442.000000   \nmean       30.353337        92.652526        18979.648453    793.999975   \nstd         0.148660        52.121955        14422.858296    526.844762   \nmin        29.680699         2.000000           42.519000     15.000000   \n25%        30.268178        55.000000         7319.037000    390.000000   \n50%        30.349126        88.000000        15945.793500    707.000000   \n75%        30.452875       123.000000        28161.540500   1098.000000   \nmax        30.823856       398.000000       106262.444000   3865.000000   \n\n       execution_time_ms  is_error  comment  \ncount       81442.000000   81442.0      0.0  \nmean           28.334545       0.0      NaN  \nstd            34.833786       0.0      NaN  \nmin             0.000000       0.0      NaN  \n25%             4.000000       0.0      NaN  \n50%            16.000000       0.0      NaN  \n75%            39.000000       0.0      NaN  \nmax           444.000000       0.0      NaN  ",
      "text/html": "<div>\n<style scoped>\n    .dataframe tbody tr th:only-of-type {\n        vertical-align: middle;\n    }\n\n    .dataframe tbody tr th {\n        vertical-align: top;\n    }\n\n    .dataframe thead th {\n        text-align: right;\n    }\n</style>\n<table border=\"1\" class=\"dataframe\">\n  <thead>\n    <tr style=\"text-align: right;\">\n      <th></th>\n      <th>person_id</th>\n      <th>origin_x</th>\n      <th>origin_y</th>\n      <th>destination_x</th>\n      <th>destination_y</th>\n      <th>number_of_links</th>\n      <th>distance_in_meters</th>\n      <th>travel_time</th>\n      <th>execution_time_ms</th>\n      <th>is_error</th>\n      <th>comment</th>\n    </tr>\n  </thead>\n  <tbody>\n    <tr>\n      <th>count</th>\n      <td>81442.000000</td>\n      <td>81442.000000</td>\n      <td>81442.000000</td>\n      <td>81442.000000</td>\n      <td>81442.000000</td>\n      <td>81442.000000</td>\n      <td>81442.000000</td>\n      <td>81442.000000</td>\n      <td>81442.000000</td>\n      <td>81442.0</td>\n      <td>0.0</td>\n    </tr>\n    <tr>\n      <th>mean</th>\n      <td>108786.103509</td>\n      <td>-97.750982</td>\n      <td>30.353337</td>\n      <td>-97.750982</td>\n      <td>30.353337</td>\n      <td>92.652526</td>\n      <td>18979.648453</td>\n      <td>793.999975</td>\n      <td>28.334545</td>\n      <td>0.0</td>\n      <td>NaN</td>\n    </tr>\n    <tr>\n      <th>std</th>\n      <td>33312.019716</td>\n      <td>0.101282</td>\n      <td>0.148660</td>\n      <td>0.101282</td>\n      <td>0.148660</td>\n      <td>52.121955</td>\n      <td>14422.858296</td>\n      <td>526.844762</td>\n      <td>34.833786</td>\n      <td>0.0</td>\n      <td>NaN</td>\n    </tr>\n    <tr>\n      <th>min</th>\n      <td>0.000000</td>\n      <td>-98.297790</td>\n      <td>29.680699</td>\n      <td>-98.297790</td>\n      <td>29.680699</td>\n      <td>2.000000</td>\n      <td>42.519000</td>\n      <td>15.000000</td>\n      <td>0.000000</td>\n      <td>0.0</td>\n      <td>NaN</td>\n    </tr>\n    <tr>\n      <th>25%</th>\n      <td>106633.000000</td>\n      <td>-97.801095</td>\n      <td>30.268178</td>\n      <td>-97.801095</td>\n      <td>30.268178</td>\n      <td>55.000000</td>\n      <td>7319.037000</td>\n      <td>390.000000</td>\n      <td>4.000000</td>\n      <td>0.0</td>\n      <td>NaN</td>\n    </tr>\n    <tr>\n      <th>50%</th>\n      <td>117124.000000</td>\n      <td>-97.741994</td>\n      <td>30.349126</td>\n      <td>-97.741994</td>\n      <td>30.349126</td>\n      <td>88.000000</td>\n      <td>15945.793500</td>\n      <td>707.000000</td>\n      <td>16.000000</td>\n      <td>0.0</td>\n      <td>NaN</td>\n    </tr>\n    <tr>\n      <th>75%</th>\n      <td>127355.000000</td>\n      <td>-97.693899</td>\n      <td>30.452875</td>\n      <td>-97.693899</td>\n      <td>30.452875</td>\n      <td>123.000000</td>\n      <td>28161.540500</td>\n      <td>1098.000000</td>\n      <td>39.000000</td>\n      <td>0.0</td>\n      <td>NaN</td>\n    </tr>\n    <tr>\n      <th>max</th>\n      <td>137856.000000</td>\n      <td>-97.299021</td>\n      <td>30.823856</td>\n      <td>-97.299021</td>\n      <td>30.823856</td>\n      <td>398.000000</td>\n      <td>106262.444000</td>\n      <td>3865.000000</td>\n      <td>444.000000</td>\n      <td>0.0</td>\n      <td>NaN</td>\n    </tr>\n  </tbody>\n</table>\n</div>"
     },
     "metadata": {},
     "output_type": "execute_result",
     "execution_count": 65
    }
   ],
   "source": [
    "r5AllRoutes.describe()"
   ],
   "metadata": {
    "collapsed": false,
    "pycharm": {
     "name": "#%%\n",
     "is_executing": false
    }
   }
  },
  {
   "cell_type": "code",
   "execution_count": 66,
   "outputs": [
    {
     "data": {
      "text/plain": "           person_id      origin_x      origin_y  destination_x  \\\ncount   81442.000000  81442.000000  81442.000000   81442.000000   \nmean   108786.103509    -97.750982     30.353337     -97.750982   \nstd     33312.019716      0.101282      0.148660       0.101282   \nmin         0.000000    -98.297790     29.680699     -98.297790   \n25%    106633.000000    -97.801095     30.268178     -97.801095   \n50%    117124.000000    -97.741994     30.349126     -97.741994   \n75%    127355.000000    -97.693899     30.452875     -97.693899   \nmax    137856.000000    -97.299021     30.823856     -97.299021   \n\n       destination_y  number_of_links  distance_in_meters   travel_time  \\\ncount   81442.000000     81442.000000        81442.000000  81442.000000   \nmean       30.353337        92.652526        18979.648453    793.999975   \nstd         0.148660        52.121955        14422.858296    526.844762   \nmin        29.680699         2.000000           42.519000     15.000000   \n25%        30.268178        55.000000         7319.037000    390.000000   \n50%        30.349126        88.000000        15945.793500    707.000000   \n75%        30.452875       123.000000        28161.540500   1098.000000   \nmax        30.823856       398.000000       106262.444000   3865.000000   \n\n       execution_time_ms  is_error  comment  \ncount       81442.000000   81442.0      0.0  \nmean           28.334545       0.0      NaN  \nstd            34.833786       0.0      NaN  \nmin             0.000000       0.0      NaN  \n25%             4.000000       0.0      NaN  \n50%            16.000000       0.0      NaN  \n75%            39.000000       0.0      NaN  \nmax           444.000000       0.0      NaN  ",
      "text/html": "<div>\n<style scoped>\n    .dataframe tbody tr th:only-of-type {\n        vertical-align: middle;\n    }\n\n    .dataframe tbody tr th {\n        vertical-align: top;\n    }\n\n    .dataframe thead th {\n        text-align: right;\n    }\n</style>\n<table border=\"1\" class=\"dataframe\">\n  <thead>\n    <tr style=\"text-align: right;\">\n      <th></th>\n      <th>person_id</th>\n      <th>origin_x</th>\n      <th>origin_y</th>\n      <th>destination_x</th>\n      <th>destination_y</th>\n      <th>number_of_links</th>\n      <th>distance_in_meters</th>\n      <th>travel_time</th>\n      <th>execution_time_ms</th>\n      <th>is_error</th>\n      <th>comment</th>\n    </tr>\n  </thead>\n  <tbody>\n    <tr>\n      <th>count</th>\n      <td>81442.000000</td>\n      <td>81442.000000</td>\n      <td>81442.000000</td>\n      <td>81442.000000</td>\n      <td>81442.000000</td>\n      <td>81442.000000</td>\n      <td>81442.000000</td>\n      <td>81442.000000</td>\n      <td>81442.000000</td>\n      <td>81442.0</td>\n      <td>0.0</td>\n    </tr>\n    <tr>\n      <th>mean</th>\n      <td>108786.103509</td>\n      <td>-97.750982</td>\n      <td>30.353337</td>\n      <td>-97.750982</td>\n      <td>30.353337</td>\n      <td>92.652526</td>\n      <td>18979.648453</td>\n      <td>793.999975</td>\n      <td>28.334545</td>\n      <td>0.0</td>\n      <td>NaN</td>\n    </tr>\n    <tr>\n      <th>std</th>\n      <td>33312.019716</td>\n      <td>0.101282</td>\n      <td>0.148660</td>\n      <td>0.101282</td>\n      <td>0.148660</td>\n      <td>52.121955</td>\n      <td>14422.858296</td>\n      <td>526.844762</td>\n      <td>34.833786</td>\n      <td>0.0</td>\n      <td>NaN</td>\n    </tr>\n    <tr>\n      <th>min</th>\n      <td>0.000000</td>\n      <td>-98.297790</td>\n      <td>29.680699</td>\n      <td>-98.297790</td>\n      <td>29.680699</td>\n      <td>2.000000</td>\n      <td>42.519000</td>\n      <td>15.000000</td>\n      <td>0.000000</td>\n      <td>0.0</td>\n      <td>NaN</td>\n    </tr>\n    <tr>\n      <th>25%</th>\n      <td>106633.000000</td>\n      <td>-97.801095</td>\n      <td>30.268178</td>\n      <td>-97.801095</td>\n      <td>30.268178</td>\n      <td>55.000000</td>\n      <td>7319.037000</td>\n      <td>390.000000</td>\n      <td>4.000000</td>\n      <td>0.0</td>\n      <td>NaN</td>\n    </tr>\n    <tr>\n      <th>50%</th>\n      <td>117124.000000</td>\n      <td>-97.741994</td>\n      <td>30.349126</td>\n      <td>-97.741994</td>\n      <td>30.349126</td>\n      <td>88.000000</td>\n      <td>15945.793500</td>\n      <td>707.000000</td>\n      <td>16.000000</td>\n      <td>0.0</td>\n      <td>NaN</td>\n    </tr>\n    <tr>\n      <th>75%</th>\n      <td>127355.000000</td>\n      <td>-97.693899</td>\n      <td>30.452875</td>\n      <td>-97.693899</td>\n      <td>30.452875</td>\n      <td>123.000000</td>\n      <td>28161.540500</td>\n      <td>1098.000000</td>\n      <td>39.000000</td>\n      <td>0.0</td>\n      <td>NaN</td>\n    </tr>\n    <tr>\n      <th>max</th>\n      <td>137856.000000</td>\n      <td>-97.299021</td>\n      <td>30.823856</td>\n      <td>-97.299021</td>\n      <td>30.823856</td>\n      <td>398.000000</td>\n      <td>106262.444000</td>\n      <td>3865.000000</td>\n      <td>444.000000</td>\n      <td>0.0</td>\n      <td>NaN</td>\n    </tr>\n  </tbody>\n</table>\n</div>"
     },
     "metadata": {},
     "output_type": "execute_result",
     "execution_count": 66
    }
   ],
   "source": [
    "r5Routes = r5AllRoutes[r5AllRoutes.is_error == False]\n",
    "r5Routes.describe()"
   ],
   "metadata": {
    "collapsed": false,
    "pycharm": {
     "name": "#%%\n",
     "is_executing": false
    }
   }
  },
  {
   "cell_type": "code",
   "execution_count": 67,
   "outputs": [
    {
     "data": {
      "text/plain": "       person_id  origin_x  origin_y  destination_x  destination_y  \\\ncount        0.0       0.0       0.0            0.0            0.0   \nmean         NaN       NaN       NaN            NaN            NaN   \nstd          NaN       NaN       NaN            NaN            NaN   \nmin          NaN       NaN       NaN            NaN            NaN   \n25%          NaN       NaN       NaN            NaN            NaN   \n50%          NaN       NaN       NaN            NaN            NaN   \n75%          NaN       NaN       NaN            NaN            NaN   \nmax          NaN       NaN       NaN            NaN            NaN   \n\n       number_of_links  distance_in_meters  travel_time  execution_time_ms  \\\ncount              0.0                 0.0          0.0                0.0   \nmean               NaN                 NaN          NaN                NaN   \nstd                NaN                 NaN          NaN                NaN   \nmin                NaN                 NaN          NaN                NaN   \n25%                NaN                 NaN          NaN                NaN   \n50%                NaN                 NaN          NaN                NaN   \n75%                NaN                 NaN          NaN                NaN   \nmax                NaN                 NaN          NaN                NaN   \n\n       is_error  comment  \ncount       0.0      0.0  \nmean        NaN      NaN  \nstd         NaN      NaN  \nmin         NaN      NaN  \n25%         NaN      NaN  \n50%         NaN      NaN  \n75%         NaN      NaN  \nmax         NaN      NaN  ",
      "text/html": "<div>\n<style scoped>\n    .dataframe tbody tr th:only-of-type {\n        vertical-align: middle;\n    }\n\n    .dataframe tbody tr th {\n        vertical-align: top;\n    }\n\n    .dataframe thead th {\n        text-align: right;\n    }\n</style>\n<table border=\"1\" class=\"dataframe\">\n  <thead>\n    <tr style=\"text-align: right;\">\n      <th></th>\n      <th>person_id</th>\n      <th>origin_x</th>\n      <th>origin_y</th>\n      <th>destination_x</th>\n      <th>destination_y</th>\n      <th>number_of_links</th>\n      <th>distance_in_meters</th>\n      <th>travel_time</th>\n      <th>execution_time_ms</th>\n      <th>is_error</th>\n      <th>comment</th>\n    </tr>\n  </thead>\n  <tbody>\n    <tr>\n      <th>count</th>\n      <td>0.0</td>\n      <td>0.0</td>\n      <td>0.0</td>\n      <td>0.0</td>\n      <td>0.0</td>\n      <td>0.0</td>\n      <td>0.0</td>\n      <td>0.0</td>\n      <td>0.0</td>\n      <td>0.0</td>\n      <td>0.0</td>\n    </tr>\n    <tr>\n      <th>mean</th>\n      <td>NaN</td>\n      <td>NaN</td>\n      <td>NaN</td>\n      <td>NaN</td>\n      <td>NaN</td>\n      <td>NaN</td>\n      <td>NaN</td>\n      <td>NaN</td>\n      <td>NaN</td>\n      <td>NaN</td>\n      <td>NaN</td>\n    </tr>\n    <tr>\n      <th>std</th>\n      <td>NaN</td>\n      <td>NaN</td>\n      <td>NaN</td>\n      <td>NaN</td>\n      <td>NaN</td>\n      <td>NaN</td>\n      <td>NaN</td>\n      <td>NaN</td>\n      <td>NaN</td>\n      <td>NaN</td>\n      <td>NaN</td>\n    </tr>\n    <tr>\n      <th>min</th>\n      <td>NaN</td>\n      <td>NaN</td>\n      <td>NaN</td>\n      <td>NaN</td>\n      <td>NaN</td>\n      <td>NaN</td>\n      <td>NaN</td>\n      <td>NaN</td>\n      <td>NaN</td>\n      <td>NaN</td>\n      <td>NaN</td>\n    </tr>\n    <tr>\n      <th>25%</th>\n      <td>NaN</td>\n      <td>NaN</td>\n      <td>NaN</td>\n      <td>NaN</td>\n      <td>NaN</td>\n      <td>NaN</td>\n      <td>NaN</td>\n      <td>NaN</td>\n      <td>NaN</td>\n      <td>NaN</td>\n      <td>NaN</td>\n    </tr>\n    <tr>\n      <th>50%</th>\n      <td>NaN</td>\n      <td>NaN</td>\n      <td>NaN</td>\n      <td>NaN</td>\n      <td>NaN</td>\n      <td>NaN</td>\n      <td>NaN</td>\n      <td>NaN</td>\n      <td>NaN</td>\n      <td>NaN</td>\n      <td>NaN</td>\n    </tr>\n    <tr>\n      <th>75%</th>\n      <td>NaN</td>\n      <td>NaN</td>\n      <td>NaN</td>\n      <td>NaN</td>\n      <td>NaN</td>\n      <td>NaN</td>\n      <td>NaN</td>\n      <td>NaN</td>\n      <td>NaN</td>\n      <td>NaN</td>\n      <td>NaN</td>\n    </tr>\n    <tr>\n      <th>max</th>\n      <td>NaN</td>\n      <td>NaN</td>\n      <td>NaN</td>\n      <td>NaN</td>\n      <td>NaN</td>\n      <td>NaN</td>\n      <td>NaN</td>\n      <td>NaN</td>\n      <td>NaN</td>\n      <td>NaN</td>\n      <td>NaN</td>\n    </tr>\n  </tbody>\n</table>\n</div>"
     },
     "metadata": {},
     "output_type": "execute_result",
     "execution_count": 67
    }
   ],
   "source": [
    "r5Errors = r5AllRoutes[r5AllRoutes.is_error == True]\n",
    "r5Errors.describe()"
   ],
   "metadata": {
    "collapsed": false,
    "pycharm": {
     "name": "#%%\n",
     "is_executing": false
    }
   }
  },
  {
   "cell_type": "code",
   "execution_count": 73,
   "outputs": [
    {
     "traceback": [
      "\u001b[0;31m---------------------------------------------------------------------------\u001b[0m",
      "\u001b[0;31mParserError\u001b[0m                               Traceback (most recent call last)",
      "\u001b[0;32m<ipython-input-73-fa90002492ee>\u001b[0m in \u001b[0;36m<module>\u001b[0;34m\u001b[0m\n\u001b[1;32m      1\u001b[0m \u001b[0;31m# ghAllRoutesUrl = \"{}/{}\".format(inputUrl, \"gh_routes.csv.gz\")\u001b[0m\u001b[0;34m\u001b[0m\u001b[0;34m\u001b[0m\u001b[0;34m\u001b[0m\u001b[0m\n\u001b[1;32m      2\u001b[0m \u001b[0mghAllRoutesUrl\u001b[0m \u001b[0;34m=\u001b[0m \u001b[0;34m\"file://localhost/Users/aaltergot/Downloads/gh_routes.csv.gz\"\u001b[0m\u001b[0;34m\u001b[0m\u001b[0;34m\u001b[0m\u001b[0m\n\u001b[0;32m----> 3\u001b[0;31m \u001b[0mghAllRoutes\u001b[0m \u001b[0;34m=\u001b[0m \u001b[0mpd\u001b[0m\u001b[0;34m.\u001b[0m\u001b[0mread_csv\u001b[0m\u001b[0;34m(\u001b[0m\u001b[0mghAllRoutesUrl\u001b[0m\u001b[0;34m,\u001b[0m \u001b[0mcompression\u001b[0m\u001b[0;34m=\u001b[0m\u001b[0;34m'gzip'\u001b[0m\u001b[0;34m,\u001b[0m \u001b[0mindex_col\u001b[0m\u001b[0;34m=\u001b[0m\u001b[0;32mFalse\u001b[0m\u001b[0;34m)\u001b[0m\u001b[0;34m\u001b[0m\u001b[0;34m\u001b[0m\u001b[0m\n\u001b[0m\u001b[1;32m      4\u001b[0m \u001b[0;34m\u001b[0m\u001b[0m\n",
      "\u001b[0;32m~/.conda/envs/ds-playground/lib/python3.7/site-packages/pandas/io/parsers.py\u001b[0m in \u001b[0;36mparser_f\u001b[0;34m(filepath_or_buffer, sep, delimiter, header, names, index_col, usecols, squeeze, prefix, mangle_dupe_cols, dtype, engine, converters, true_values, false_values, skipinitialspace, skiprows, skipfooter, nrows, na_values, keep_default_na, na_filter, verbose, skip_blank_lines, parse_dates, infer_datetime_format, keep_date_col, date_parser, dayfirst, cache_dates, iterator, chunksize, compression, thousands, decimal, lineterminator, quotechar, quoting, doublequote, escapechar, comment, encoding, dialect, error_bad_lines, warn_bad_lines, delim_whitespace, low_memory, memory_map, float_precision)\u001b[0m\n\u001b[1;32m    683\u001b[0m         )\n\u001b[1;32m    684\u001b[0m \u001b[0;34m\u001b[0m\u001b[0m\n\u001b[0;32m--> 685\u001b[0;31m         \u001b[0;32mreturn\u001b[0m \u001b[0m_read\u001b[0m\u001b[0;34m(\u001b[0m\u001b[0mfilepath_or_buffer\u001b[0m\u001b[0;34m,\u001b[0m \u001b[0mkwds\u001b[0m\u001b[0;34m)\u001b[0m\u001b[0;34m\u001b[0m\u001b[0;34m\u001b[0m\u001b[0m\n\u001b[0m\u001b[1;32m    686\u001b[0m \u001b[0;34m\u001b[0m\u001b[0m\n\u001b[1;32m    687\u001b[0m     \u001b[0mparser_f\u001b[0m\u001b[0;34m.\u001b[0m\u001b[0m__name__\u001b[0m \u001b[0;34m=\u001b[0m \u001b[0mname\u001b[0m\u001b[0;34m\u001b[0m\u001b[0;34m\u001b[0m\u001b[0m\n",
      "\u001b[0;32m~/.conda/envs/ds-playground/lib/python3.7/site-packages/pandas/io/parsers.py\u001b[0m in \u001b[0;36m_read\u001b[0;34m(filepath_or_buffer, kwds)\u001b[0m\n\u001b[1;32m    461\u001b[0m \u001b[0;34m\u001b[0m\u001b[0m\n\u001b[1;32m    462\u001b[0m     \u001b[0;32mtry\u001b[0m\u001b[0;34m:\u001b[0m\u001b[0;34m\u001b[0m\u001b[0;34m\u001b[0m\u001b[0m\n\u001b[0;32m--> 463\u001b[0;31m         \u001b[0mdata\u001b[0m \u001b[0;34m=\u001b[0m \u001b[0mparser\u001b[0m\u001b[0;34m.\u001b[0m\u001b[0mread\u001b[0m\u001b[0;34m(\u001b[0m\u001b[0mnrows\u001b[0m\u001b[0;34m)\u001b[0m\u001b[0;34m\u001b[0m\u001b[0;34m\u001b[0m\u001b[0m\n\u001b[0m\u001b[1;32m    464\u001b[0m     \u001b[0;32mfinally\u001b[0m\u001b[0;34m:\u001b[0m\u001b[0;34m\u001b[0m\u001b[0;34m\u001b[0m\u001b[0m\n\u001b[1;32m    465\u001b[0m         \u001b[0mparser\u001b[0m\u001b[0;34m.\u001b[0m\u001b[0mclose\u001b[0m\u001b[0;34m(\u001b[0m\u001b[0;34m)\u001b[0m\u001b[0;34m\u001b[0m\u001b[0;34m\u001b[0m\u001b[0m\n",
      "\u001b[0;32m~/.conda/envs/ds-playground/lib/python3.7/site-packages/pandas/io/parsers.py\u001b[0m in \u001b[0;36mread\u001b[0;34m(self, nrows)\u001b[0m\n\u001b[1;32m   1152\u001b[0m     \u001b[0;32mdef\u001b[0m \u001b[0mread\u001b[0m\u001b[0;34m(\u001b[0m\u001b[0mself\u001b[0m\u001b[0;34m,\u001b[0m \u001b[0mnrows\u001b[0m\u001b[0;34m=\u001b[0m\u001b[0;32mNone\u001b[0m\u001b[0;34m)\u001b[0m\u001b[0;34m:\u001b[0m\u001b[0;34m\u001b[0m\u001b[0;34m\u001b[0m\u001b[0m\n\u001b[1;32m   1153\u001b[0m         \u001b[0mnrows\u001b[0m \u001b[0;34m=\u001b[0m \u001b[0m_validate_integer\u001b[0m\u001b[0;34m(\u001b[0m\u001b[0;34m\"nrows\"\u001b[0m\u001b[0;34m,\u001b[0m \u001b[0mnrows\u001b[0m\u001b[0;34m)\u001b[0m\u001b[0;34m\u001b[0m\u001b[0;34m\u001b[0m\u001b[0m\n\u001b[0;32m-> 1154\u001b[0;31m         \u001b[0mret\u001b[0m \u001b[0;34m=\u001b[0m \u001b[0mself\u001b[0m\u001b[0;34m.\u001b[0m\u001b[0m_engine\u001b[0m\u001b[0;34m.\u001b[0m\u001b[0mread\u001b[0m\u001b[0;34m(\u001b[0m\u001b[0mnrows\u001b[0m\u001b[0;34m)\u001b[0m\u001b[0;34m\u001b[0m\u001b[0;34m\u001b[0m\u001b[0m\n\u001b[0m\u001b[1;32m   1155\u001b[0m \u001b[0;34m\u001b[0m\u001b[0m\n\u001b[1;32m   1156\u001b[0m         \u001b[0;31m# May alter columns / col_dict\u001b[0m\u001b[0;34m\u001b[0m\u001b[0;34m\u001b[0m\u001b[0;34m\u001b[0m\u001b[0m\n",
      "\u001b[0;32m~/.conda/envs/ds-playground/lib/python3.7/site-packages/pandas/io/parsers.py\u001b[0m in \u001b[0;36mread\u001b[0;34m(self, nrows)\u001b[0m\n\u001b[1;32m   2057\u001b[0m     \u001b[0;32mdef\u001b[0m \u001b[0mread\u001b[0m\u001b[0;34m(\u001b[0m\u001b[0mself\u001b[0m\u001b[0;34m,\u001b[0m \u001b[0mnrows\u001b[0m\u001b[0;34m=\u001b[0m\u001b[0;32mNone\u001b[0m\u001b[0;34m)\u001b[0m\u001b[0;34m:\u001b[0m\u001b[0;34m\u001b[0m\u001b[0;34m\u001b[0m\u001b[0m\n\u001b[1;32m   2058\u001b[0m         \u001b[0;32mtry\u001b[0m\u001b[0;34m:\u001b[0m\u001b[0;34m\u001b[0m\u001b[0;34m\u001b[0m\u001b[0m\n\u001b[0;32m-> 2059\u001b[0;31m             \u001b[0mdata\u001b[0m \u001b[0;34m=\u001b[0m \u001b[0mself\u001b[0m\u001b[0;34m.\u001b[0m\u001b[0m_reader\u001b[0m\u001b[0;34m.\u001b[0m\u001b[0mread\u001b[0m\u001b[0;34m(\u001b[0m\u001b[0mnrows\u001b[0m\u001b[0;34m)\u001b[0m\u001b[0;34m\u001b[0m\u001b[0;34m\u001b[0m\u001b[0m\n\u001b[0m\u001b[1;32m   2060\u001b[0m         \u001b[0;32mexcept\u001b[0m \u001b[0mStopIteration\u001b[0m\u001b[0;34m:\u001b[0m\u001b[0;34m\u001b[0m\u001b[0;34m\u001b[0m\u001b[0m\n\u001b[1;32m   2061\u001b[0m             \u001b[0;32mif\u001b[0m \u001b[0mself\u001b[0m\u001b[0;34m.\u001b[0m\u001b[0m_first_chunk\u001b[0m\u001b[0;34m:\u001b[0m\u001b[0;34m\u001b[0m\u001b[0;34m\u001b[0m\u001b[0m\n",
      "\u001b[0;32mpandas/_libs/parsers.pyx\u001b[0m in \u001b[0;36mpandas._libs.parsers.TextReader.read\u001b[0;34m()\u001b[0m\n",
      "\u001b[0;32mpandas/_libs/parsers.pyx\u001b[0m in \u001b[0;36mpandas._libs.parsers.TextReader._read_low_memory\u001b[0;34m()\u001b[0m\n",
      "\u001b[0;32mpandas/_libs/parsers.pyx\u001b[0m in \u001b[0;36mpandas._libs.parsers.TextReader._read_rows\u001b[0;34m()\u001b[0m\n",
      "\u001b[0;32mpandas/_libs/parsers.pyx\u001b[0m in \u001b[0;36mpandas._libs.parsers.TextReader._tokenize_rows\u001b[0;34m()\u001b[0m\n",
      "\u001b[0;32mpandas/_libs/parsers.pyx\u001b[0m in \u001b[0;36mpandas._libs.parsers.raise_parser_error\u001b[0;34m()\u001b[0m\n",
      "\u001b[0;31mParserError\u001b[0m: Error tokenizing data. C error: Expected 11 fields in line 3058, saw 12\n"
     ],
     "ename": "ParserError",
     "evalue": "Error tokenizing data. C error: Expected 11 fields in line 3058, saw 12\n",
     "output_type": "error"
    }
   ],
   "source": [
    "ghAllRoutesUrl = \"{}/{}\".format(inputUrl, \"gh_routes.csv.gz\")\n",
    "ghAllRoutes = pd.read_csv(ghAllRoutesUrl, compression='gzip', index_col=False)"
   ],
   "metadata": {
    "collapsed": false,
    "pycharm": {
     "name": "#%%\n",
     "is_executing": false
    }
   }
  },
  {
   "cell_type": "code",
   "execution_count": null,
   "outputs": [],
   "source": [
    "ghRoutes = ghAllRoutes[ghAllRoutes.is_error == False]\n",
    "ghRoutes.describe()"
   ],
   "metadata": {
    "collapsed": false,
    "pycharm": {
     "name": "#%%\n",
     "is_executing": false
    }
   }
  },
  {
   "cell_type": "code",
   "execution_count": null,
   "outputs": [],
   "source": [
    "ghErrors = ghAllRoutes[ghAllRoutes.is_error == True]\n",
    "ghErrors.describe()"
   ],
   "metadata": {
    "collapsed": false,
    "pycharm": {
     "name": "#%%\n",
     "is_executing": false
    }
   }
  },
  {
   "cell_type": "code",
   "execution_count": null,
   "outputs": [],
   "source": [
    "plt.subplot(1, 2, 1)\n",
    "if not r5Errors.empty:\n",
    "    r5Errors.distance.plot.hist(bins=80, title='R5: failed distances')\n",
    "    \n",
    "plt.subplot(1, 2, 2)\n",
    "if not ghErrors.empty:\n",
    "    ghErrors.distance.plot.hist(bins=80, title='GH: failed distances')"
   ],
   "metadata": {
    "collapsed": false,
    "pycharm": {
     "name": "#%%\n",
     "is_executing": false
    }
   }
  },
  {
   "cell_type": "code",
   "metadata": {
    "pycharm": {
     "name": "#%%\n",
     "is_executing": false
    },
    "id": "DhitKbPzy5M_",
    "colab_type": "code",
    "colab": {
     "base_uri": "https://localhost:8080/",
     "height": 787
    },
    "outputId": "db205cea-ddc9-4bbb-cca9-42551e0ba365"
   },
   "source": [
    "plt.subplot(1, 2, 1)\n",
    "r5Routes['distance_in_meters'].plot.hist(bins = 80, title='R5 Distances')\n",
    "plt.subplot(1, 2, 2)\n",
    "ghRoutes['distance_in_meters'].plot.hist(bins = 80, title='GH Distances')"
   ],
   "execution_count": null,
   "outputs": []
  },
  {
   "cell_type": "code",
   "metadata": {
    "pycharm": {
     "name": "#%%\n",
     "is_executing": false
    },
    "id": "6wziRCKfy5NC",
    "colab_type": "code",
    "colab": {
     "base_uri": "https://localhost:8080/",
     "height": 788
    },
    "outputId": "d5cf3d82-6f44-4e36-ea73-5b2a08ab1a67"
   },
   "source": [
    "plt.subplot(1, 2, 1)\n",
    "r5Routes['travel_time'].plot.hist(bins = 80, title='R5 travel times')\n",
    "plt.subplot(1, 2, 2)\n",
    "ghRoutes['travel_time'].plot.hist(bins = 80, title='GH travel times')"
   ],
   "execution_count": null,
   "outputs": []
  },
  {
   "cell_type": "code",
   "metadata": {
    "pycharm": {
     "name": "#%%\n",
     "is_executing": false
    },
    "id": "8DoaraKcy5NE",
    "colab_type": "code",
    "colab": {
     "base_uri": "https://localhost:8080/",
     "height": 402
    },
    "outputId": "c79ab3ac-5820-4840-e6ec-92a8ad60c586"
   },
   "source": [
    "plt.subplot(2, 2, 1)\n",
    "r5Routes['number_of_links'].plot.hist(bins = 80, title='R5 number of links')\n",
    "plt.subplot(2, 2, 2)\n",
    "ghRoutes['number_of_links'].plot.hist(bins = 80, title='GH number of links')"
   ],
   "execution_count": null,
   "outputs": []
  },
  {
   "cell_type": "code",
   "metadata": {
    "id": "IFf361OM7cdN",
    "colab_type": "code",
    "pycharm": {
     "is_executing": false
    },
    "colab": {
     "base_uri": "https://localhost:8080/",
     "height": 884
    },
    "outputId": "3a08c824-1674-4bc1-876b-6a0608bc1363"
   },
   "source": [
    "r5Travel = r5Routes[r5Routes['travel_time'] != 0]\n",
    "r5Travel['speed'] = r5Travel['distance_in_meters'] / r5Travel['travel_time']\n",
    "\n",
    "ghTravel = ghRoutes[ghRoutes['travel_time'] != 0]\n",
    "ghTravel['speed'] = ghTravel['distance_in_meters'] / ghTravel['travel_time']\n",
    "\n",
    "plt.subplot(1, 2, 1)\n",
    "r5Travel['speed'].plot.hist(bins = 80, title='R5 Speed')\n",
    "plt.subplot(1, 2, 2)\n",
    "ghTravel['speed'].plot.hist(bins = 80, title='GH Speed')"
   ],
   "execution_count": null,
   "outputs": []
  },
  {
   "cell_type": "code",
   "metadata": {
    "id": "L6u8GLZt7l9i",
    "colab_type": "code",
    "pycharm": {
     "is_executing": false
    },
    "colab": {
     "base_uri": "https://localhost:8080/",
     "height": 162
    },
    "outputId": "32a4a5bd-be8b-413d-933f-8ef8579b310a"
   },
   "source": [
    "# R5 computation time\n",
    "r5Routes['execution_time_ms'].describe()"
   ],
   "execution_count": null,
   "outputs": []
  },
  {
   "cell_type": "code",
   "metadata": {
    "pycharm": {
     "name": "#%%\n",
     "is_executing": false
    },
    "id": "xiJ3LcRHy5NM",
    "colab_type": "code",
    "colab": {
     "base_uri": "https://localhost:8080/",
     "height": 162
    },
    "outputId": "d0e0b469-d2f2-4d74-ba9b-f47f2eb2fc80"
   },
   "source": [
    "# GH computation time\n",
    "ghRoutes['execution_time_ms'].describe()"
   ],
   "execution_count": null,
   "outputs": []
  },
  {
   "cell_type": "code",
   "metadata": {
    "id": "vGys2SQm73CJ",
    "colab_type": "code",
    "pycharm": {
     "is_executing": false,
     "name": "#%%\n"
    },
    "colab": {
     "base_uri": "https://localhost:8080/",
     "height": 1000
    },
    "outputId": "e973413c-ee97-45e0-9140-2bfe5a8523e8"
   },
   "source": [
    "# plt.subplot(1, 2, 1)\n",
    "r5Routes.plot.scatter(x='number_of_links', y='execution_time_ms')\n",
    "# r5Routes.plot.scatter(x='distance_in_meters', y='execution_time_ms')\n",
    "\n",
    "# plt.subplot(1, 2, 2)\n",
    "ghRoutes.plot.scatter(x='number_of_links', y='execution_time_ms')\n",
    "# ghRoutes.plot.scatter(x='distance_in_meters', y='execution_time_ms')"
   ],
   "execution_count": null,
   "outputs": []
  },
  {
   "cell_type": "code",
   "execution_count": null,
   "outputs": [],
   "source": [],
   "metadata": {
    "collapsed": false,
    "pycharm": {
     "name": "#%%\n",
     "is_executing": false
    }
   }
  }
 ]
}