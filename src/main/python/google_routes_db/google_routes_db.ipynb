{
 "nbformat": 4,
 "nbformat_minor": 0,
 "metadata": {
  "colab": {
   "name": "r5vsgh.ipynb",
   "provenance": []
  },
  "kernelspec": {
   "name": "python3",
   "language": "python",
   "display_name": "Python 3"
  }
 },
 "cells": [
  {
   "cell_type": "code",
   "metadata": {
    "id": "LzBIMMoh5d-o",
    "colab_type": "code",
    "pycharm": {
     "is_executing": false
    },
    "colab": {
     "base_uri": "https://localhost:8080/",
     "height": 50
    },
    "outputId": "d17cbb3e-84aa-4a35-b4a5-34c2c05ff44b"
   },
   "source": [
    "from typing import Any, Union\n",
    "from pandas import DataFrame\n",
    "from pandas.io.parsers import TextFileReader\n",
    "%matplotlib inline\n",
    "# Main Python imports and params for Mathplotlib\n",
    "from datetime import datetime, timedelta\n",
    "\n",
    "import os\n",
    "import matplotlib as mpl\n",
    "#if os.environ.get('DISPLAY','') == '':\n",
    "    #print('no display found. Using non-interactive Agg backend')\n",
    "    #mpl.use('Agg')\n",
    "\n",
    "import matplotlib.dates as mdates\n",
    "import matplotlib.pyplot as plt\n",
    "from matplotlib import colors\n",
    "from matplotlib import cm\n",
    "import seaborn as sns\n",
    "\n",
    "\n",
    "import numpy as np \n",
    "from numpy.random import rand\n",
    "\n",
    "import time\n",
    "import traceback\n",
    "import math\n",
    "\n",
    "import pandas as pd\n",
    "import io\n",
    "import requests\n",
    "\n",
    "import re\n",
    "import math\n",
    "\n",
    "import json\n",
    "import psycopg2"
   ],
   "execution_count": 40,
   "outputs": []
  },
  {
   "cell_type": "code",
   "metadata": {
    "id": "myH8lVjz7Rc4",
    "colab_type": "code",
    "colab": {},
    "pycharm": {
     "is_executing": false,
     "name": "#%%\n"
    }
   },
   "source": [
    "# download https://beam-outputs.s3.amazonaws.com/output/newyork/new-york-200k-flowCap_0.025__2020-08-09_23-27-02_gpo/ITERS/it.0/0.maps.googleapi.responses.json\n",
    "# download https://beam-outputs.s3.amazonaws.com/output/newyork/new-york-200k-flowCap_0.025__2020-08-09_23-27-02_gpo/ITERS/it.10/10.maps.googleapi.responses.json\n",
    "\n",
    "json0Url = \"/path/to/0.maps.googleapi.responses.json\"\n",
    "json10Url = \"/path/to/10.maps.googleapi.responses.json\"\n",
    "\n",
    "google_routes = []\n",
    "with open(json0Url, \"r\") as read_file:\n",
    "    google_routes = google_routes + json.load(read_file)\n",
    "    \n",
    "with open(json10Url, \"r\") as read_file:\n",
    "    google_routes = google_routes + json.load(read_file)\n",
    "    \n",
    "google_routes_count = len(google_routes)"
   ],
   "execution_count": 45,
   "outputs": [
    {
     "traceback": [
      "\u001B[0;31m---------------------------------------------------------------------------\u001B[0m",
      "\u001B[0;31mFileNotFoundError\u001B[0m                         Traceback (most recent call last)",
      "\u001B[0;32m<ipython-input-45-3e3cee1e6555>\u001B[0m in \u001B[0;36m<module>\u001B[0;34m\u001B[0m\n\u001B[1;32m      6\u001B[0m \u001B[0;34m\u001B[0m\u001B[0m\n\u001B[1;32m      7\u001B[0m \u001B[0mgoogle_routes\u001B[0m \u001B[0;34m=\u001B[0m \u001B[0;34m[\u001B[0m\u001B[0;34m]\u001B[0m\u001B[0;34m\u001B[0m\u001B[0;34m\u001B[0m\u001B[0m\n\u001B[0;32m----> 8\u001B[0;31m \u001B[0;32mwith\u001B[0m \u001B[0mopen\u001B[0m\u001B[0;34m(\u001B[0m\u001B[0mjson0Url\u001B[0m\u001B[0;34m,\u001B[0m \u001B[0;34m\"r\"\u001B[0m\u001B[0;34m)\u001B[0m \u001B[0;32mas\u001B[0m \u001B[0mread_file\u001B[0m\u001B[0;34m:\u001B[0m\u001B[0;34m\u001B[0m\u001B[0;34m\u001B[0m\u001B[0m\n\u001B[0m\u001B[1;32m      9\u001B[0m     \u001B[0mgoogle_routes\u001B[0m \u001B[0;34m=\u001B[0m \u001B[0mgoogle_routes\u001B[0m \u001B[0;34m+\u001B[0m \u001B[0mjson\u001B[0m\u001B[0;34m.\u001B[0m\u001B[0mload\u001B[0m\u001B[0;34m(\u001B[0m\u001B[0mread_file\u001B[0m\u001B[0;34m)\u001B[0m\u001B[0;34m\u001B[0m\u001B[0;34m\u001B[0m\u001B[0m\n\u001B[1;32m     10\u001B[0m \u001B[0;34m\u001B[0m\u001B[0m\n",
      "\u001B[0;31mFileNotFoundError\u001B[0m: [Errno 2] No such file or directory: '/Users/aaltergot/Prj/beam/local/google_routes_db/0.maps.googleapi.responses.json'"
     ],
     "ename": "FileNotFoundError",
     "evalue": "[Errno 2] No such file or directory: '/Users/aaltergot/Prj/beam/local/google_routes_db/0.maps.googleapi.responses.json'",
     "output_type": "error"
    }
   ]
  },
  {
   "cell_type": "code",
   "execution_count": 42,
   "outputs": [],
   "source": [
    "def gr_point_to_point(gr_point):\n",
    "    return 'POINT({} {})'.format(\n",
    "        gr_point['lat'],\n",
    "        gr_point['lng']\n",
    "    )\n",
    "    \n",
    "def gr_steps_to_linestring(steps):\n",
    "    return 'LINESTRING(' + ','.join(map(\n",
    "        lambda step: '{} {}'.format(step['end_location']['lat'], step['end_location']['lng']), \n",
    "        [{'end_location': steps[0]['start_location']}] + steps  # hm\n",
    "    )) + ')'\n",
    "\n",
    "connection = psycopg2.connect(\n",
    "    host='localhost',\n",
    "    port=5432,\n",
    "    user='postgres',\n",
    "    password='postgres',\n",
    "    dbname='google_routes_db'\n",
    ")\n",
    "cursor = connection.cursor()\n",
    "\n",
    "for gr in google_routes:\n",
    "    for route in gr['routes']:\n",
    "        cursor.execute(\n",
    "           \"\"\"\n",
    "           INSERT INTO gr_route (\n",
    "             bound_northeast, \n",
    "             bound_southwest,\n",
    "             summary, \n",
    "             copyrights\n",
    "           ) VALUES (\n",
    "             '{bound_northeast}', '{bound_southwest}', '{summary}', '{copyrights}'\n",
    "           ) RETURNING id\n",
    "           \"\"\".format(\n",
    "               bound_northeast = gr_point_to_point(route['bounds']['northeast']),\n",
    "               bound_southwest = gr_point_to_point(route['bounds']['southwest']),\n",
    "               summary = route['summary'],\n",
    "               copyrights = route['copyrights']\n",
    "           )\n",
    "        )\n",
    "        route_id = cursor.fetchone()[0]\n",
    "        \n",
    "        for leg in route['legs']:\n",
    "            \n",
    "            duration_in_traffic = leg.get('duration_in_traffic')\n",
    "            duration_in_traffic_text = 'NULL'\n",
    "            if duration_in_traffic is not None:\n",
    "                duration_in_traffic_text = '\\'' + duration_in_traffic['text'] + '\\''\n",
    "                duration_in_traffic = duration_in_traffic['value']\n",
    "            else:\n",
    "                duration_in_traffic = 'NULL'\n",
    "                \n",
    "            cursor.execute(\n",
    "               \"\"\"\n",
    "               INSERT INTO gr_route_leg (\n",
    "                 route_id, distance, distance_text,\n",
    "                 duration, duration_text,\n",
    "                 duration_in_traffic, duration_in_traffic_text,\n",
    "                 start_address, end_address,\n",
    "                 start_location, \n",
    "                 end_location,\n",
    "                 steps\n",
    "               ) VALUES (\n",
    "                 {route_id}, {distance}, '{distance_text}',\n",
    "                 {duration}, '{duration_text}',\n",
    "                 {duration_in_traffic}, {duration_in_traffic_text},\n",
    "                 '{start_address}', '{end_address}',\n",
    "                 '{start_location}', '{end_location}',\n",
    "                 '{steps}'\n",
    "               )\n",
    "               \"\"\".format(\n",
    "                   route_id = route_id, \n",
    "                   distance = leg['distance']['value'], \n",
    "                   distance_text = leg['distance']['text'],\n",
    "                   duration = leg['duration']['value'], \n",
    "                   duration_text = leg['duration']['text'],\n",
    "                   duration_in_traffic = duration_in_traffic, \n",
    "                   duration_in_traffic_text = duration_in_traffic_text,\n",
    "                   start_address = leg['start_address'].replace(\"'\", \"''\"),\n",
    "                   end_address = leg['end_address'].replace(\"'\", \"''\"),\n",
    "                   start_location = gr_point_to_point(leg['start_location']),\n",
    "                   end_location = gr_point_to_point(leg['end_location']),\n",
    "                   steps = gr_steps_to_linestring(leg['steps'])\n",
    "               )\n",
    "            )\n",
    "\n",
    "connection.commit()"
   ],
   "metadata": {
    "collapsed": false,
    "pycharm": {
     "name": "#%%\n",
     "is_executing": false
    }
   }
  },
  {
   "cell_type": "code",
   "execution_count": null,
   "outputs": [],
   "source": [],
   "metadata": {
    "collapsed": false,
    "pycharm": {
     "name": "#%%\n"
    }
   }
  }
 ]
}